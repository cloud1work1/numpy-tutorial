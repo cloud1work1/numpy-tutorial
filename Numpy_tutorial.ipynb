{
  "nbformat": 4,
  "nbformat_minor": 0,
  "metadata": {
    "colab": {
      "name": "Numpy-tutorial.ipynb",
      "provenance": [],
      "collapsed_sections": [],
      "authorship_tag": "ABX9TyPIA57OxNZQjWTkcUSwfYLM",
      "include_colab_link": true
    },
    "kernelspec": {
      "name": "python3",
      "display_name": "Python 3"
    }
  },
  "cells": [
    {
      "cell_type": "markdown",
      "metadata": {
        "id": "view-in-github",
        "colab_type": "text"
      },
      "source": [
        "<a href=\"https://colab.research.google.com/github/cloud1work1/numpy-tutorial/blob/main/Numpy_tutorial.ipynb\" target=\"_parent\"><img src=\"https://colab.research.google.com/assets/colab-badge.svg\" alt=\"Open In Colab\"/></a>"
      ]
    },
    {
      "cell_type": "code",
      "metadata": {
        "id": "G6CdaQl3I4rE"
      },
      "source": [
        "import numpy as np"
      ],
      "execution_count": 1,
      "outputs": []
    },
    {
      "cell_type": "code",
      "metadata": {
        "colab": {
          "base_uri": "https://localhost:8080/"
        },
        "id": "-BE9KYXkJar3",
        "outputId": "7a2f377a-08f4-4e59-f5fa-b539d0179dee"
      },
      "source": [
        "x = np.array([1,3,4,5,6])\r\n",
        "x"
      ],
      "execution_count": null,
      "outputs": [
        {
          "output_type": "execute_result",
          "data": {
            "text/plain": [
              "array([1, 3, 4, 5, 6])"
            ]
          },
          "metadata": {
            "tags": []
          },
          "execution_count": 3
        }
      ]
    },
    {
      "cell_type": "code",
      "metadata": {
        "colab": {
          "base_uri": "https://localhost:8080/"
        },
        "id": "gxAuAWgTJieY",
        "outputId": "fd41db81-9d56-4286-ea35-8acc115b6f6a"
      },
      "source": [
        "r = np.random.randint(2,10)\r\n",
        "r"
      ],
      "execution_count": null,
      "outputs": [
        {
          "output_type": "execute_result",
          "data": {
            "text/plain": [
              "4"
            ]
          },
          "metadata": {
            "tags": []
          },
          "execution_count": 5
        }
      ]
    },
    {
      "cell_type": "code",
      "metadata": {
        "colab": {
          "base_uri": "https://localhost:8080/"
        },
        "id": "D7nLYRsPJn8y",
        "outputId": "95adb35f-1c1b-4b4b-e5b6-8b0cd5bedcff"
      },
      "source": [
        "sample = np.random.randint(0,12,100)\r\n",
        "%timeit np.power(sample,2)"
      ],
      "execution_count": null,
      "outputs": [
        {
          "output_type": "stream",
          "text": [
            "The slowest run took 29.95 times longer than the fastest. This could mean that an intermediate result is being cached.\n",
            "1000000 loops, best of 3: 1.21 µs per loop\n"
          ],
          "name": "stdout"
        }
      ]
    },
    {
      "cell_type": "code",
      "metadata": {
        "colab": {
          "base_uri": "https://localhost:8080/"
        },
        "id": "8yzgkEMqJ9NU",
        "outputId": "2ebc4310-5206-4f26-fc50-eef36dded392"
      },
      "source": [
        "%timeit list(np.power(sample,2))"
      ],
      "execution_count": null,
      "outputs": [
        {
          "output_type": "stream",
          "text": [
            "The slowest run took 4.75 times longer than the fastest. This could mean that an intermediate result is being cached.\n",
            "100000 loops, best of 3: 11.3 µs per loop\n"
          ],
          "name": "stdout"
        }
      ]
    },
    {
      "cell_type": "code",
      "metadata": {
        "colab": {
          "base_uri": "https://localhost:8080/",
          "height": 35
        },
        "id": "Au79zVE3KE7x",
        "outputId": "5c22290c-cd32-40da-fd3d-a05a5a30070d"
      },
      "source": [
        "np.__version__"
      ],
      "execution_count": null,
      "outputs": [
        {
          "output_type": "execute_result",
          "data": {
            "application/vnd.google.colaboratory.intrinsic+json": {
              "type": "string"
            },
            "text/plain": [
              "'1.19.5'"
            ]
          },
          "metadata": {
            "tags": []
          },
          "execution_count": 8
        }
      ]
    },
    {
      "cell_type": "code",
      "metadata": {
        "id": "DBr4gwUeKKO7"
      },
      "source": [
        "import numpy as np"
      ],
      "execution_count": null,
      "outputs": []
    },
    {
      "cell_type": "code",
      "metadata": {
        "id": "L4ld4zVGK-Q3"
      },
      "source": [
        "x = np.array([1,2,3,4])"
      ],
      "execution_count": null,
      "outputs": []
    },
    {
      "cell_type": "code",
      "metadata": {
        "colab": {
          "base_uri": "https://localhost:8080/"
        },
        "id": "HgKgDEueLCCT",
        "outputId": "3009f555-9eaa-4039-dfea-6519548093b7"
      },
      "source": [
        "x"
      ],
      "execution_count": null,
      "outputs": [
        {
          "output_type": "execute_result",
          "data": {
            "text/plain": [
              "array([1, 2, 3, 4])"
            ]
          },
          "metadata": {
            "tags": []
          },
          "execution_count": 11
        }
      ]
    },
    {
      "cell_type": "code",
      "metadata": {
        "colab": {
          "base_uri": "https://localhost:8080/"
        },
        "id": "ISQ7vRKNLDZ-",
        "outputId": "94f92f6e-b9c7-498c-cacb-79513cca64c3"
      },
      "source": [
        "s=np.random.randint(2,10)\r\n",
        "s"
      ],
      "execution_count": null,
      "outputs": [
        {
          "output_type": "execute_result",
          "data": {
            "text/plain": [
              "9"
            ]
          },
          "metadata": {
            "tags": []
          },
          "execution_count": 13
        }
      ]
    },
    {
      "cell_type": "code",
      "metadata": {
        "colab": {
          "base_uri": "https://localhost:8080/"
        },
        "id": "omJxV0AZLIHp",
        "outputId": "7f856d4c-04e0-4209-ec65-dc613ea10c52"
      },
      "source": [
        "t=np.random.randint(2,100,2000)\r\n",
        "%timeit np.power(t,2)"
      ],
      "execution_count": null,
      "outputs": [
        {
          "output_type": "stream",
          "text": [
            "The slowest run took 155.30 times longer than the fastest. This could mean that an intermediate result is being cached.\n",
            "100000 loops, best of 3: 5.76 µs per loop\n"
          ],
          "name": "stdout"
        }
      ]
    },
    {
      "cell_type": "code",
      "metadata": {
        "colab": {
          "base_uri": "https://localhost:8080/"
        },
        "id": "_BSfy9DJLhoa",
        "outputId": "9307a61e-620a-494c-9fb7-bde012b8d69c"
      },
      "source": [
        "%timeit list(np.power(t,2))"
      ],
      "execution_count": null,
      "outputs": [
        {
          "output_type": "stream",
          "text": [
            "10000 loops, best of 3: 173 µs per loop\n"
          ],
          "name": "stdout"
        }
      ]
    },
    {
      "cell_type": "code",
      "metadata": {
        "colab": {
          "base_uri": "https://localhost:8080/",
          "height": 35
        },
        "id": "P7BzYM5kLuTi",
        "outputId": "97f799cd-2e47-49c9-8473-326bfef94c68"
      },
      "source": [
        "np.__version__"
      ],
      "execution_count": null,
      "outputs": [
        {
          "output_type": "execute_result",
          "data": {
            "application/vnd.google.colaboratory.intrinsic+json": {
              "type": "string"
            },
            "text/plain": [
              "'1.19.5'"
            ]
          },
          "metadata": {
            "tags": []
          },
          "execution_count": 17
        }
      ]
    },
    {
      "cell_type": "code",
      "metadata": {
        "id": "2nMkIeh1LyYn",
        "colab": {
          "base_uri": "https://localhost:8080/"
        },
        "outputId": "345b04c9-1728-4f2a-ecc8-0f77e5ff8ef9"
      },
      "source": [
        "# define array\r\n",
        "mylist = [1,3,5]\r\n",
        "myarray = np.array(mylist)\r\n",
        "myarray.shape"
      ],
      "execution_count": null,
      "outputs": [
        {
          "output_type": "execute_result",
          "data": {
            "text/plain": [
              "(3,)"
            ]
          },
          "metadata": {
            "tags": []
          },
          "execution_count": 4
        }
      ]
    },
    {
      "cell_type": "code",
      "metadata": {
        "colab": {
          "base_uri": "https://localhost:8080/"
        },
        "id": "ODKSVaF2Aj4N",
        "outputId": "1927c86b-fae9-44e9-d10b-b417c81a8e9d"
      },
      "source": [
        "# access values\r\n",
        "mylist = [[1,2,3], [7,8,4]]\r\n",
        "myarray = np.array(mylist)\r\n",
        "print(myarray[0])\r\n",
        "print(myarray[-1])\r\n",
        "print(myarray[0,2])\r\n",
        "print(myarray[:,1])"
      ],
      "execution_count": null,
      "outputs": [
        {
          "output_type": "stream",
          "text": [
            "[1 2 3]\n",
            "[7 8 4]\n",
            "3\n",
            "[2 8]\n"
          ],
          "name": "stdout"
        }
      ]
    },
    {
      "cell_type": "code",
      "metadata": {
        "colab": {
          "base_uri": "https://localhost:8080/"
        },
        "id": "0nSaTDkfA8HS",
        "outputId": "48544cd6-ea97-43a4-ab72-e201678b8e28"
      },
      "source": [
        "# arithmetic\r\n",
        "myarray1 = np.array([2, 2, 2])\r\n",
        "myarray2 = np.array([3, 3, 3])\r\n",
        "print(myarray1+myarray2)\r\n",
        "print(myarray1*myarray2)"
      ],
      "execution_count": null,
      "outputs": [
        {
          "output_type": "stream",
          "text": [
            "[5 5 5]\n",
            "[6 6 6]\n"
          ],
          "name": "stdout"
        }
      ]
    },
    {
      "cell_type": "code",
      "metadata": {
        "id": "qPiXWDVjBUlP"
      },
      "source": [
        "# *Dimension*"
      ],
      "execution_count": null,
      "outputs": []
    },
    {
      "cell_type": "code",
      "metadata": {
        "colab": {
          "base_uri": "https://localhost:8080/"
        },
        "id": "ythZgxMHV6fe",
        "outputId": "ada4a726-d218-4adf-9799-83baf15d04ca"
      },
      "source": [
        "x=np.array(12)\r\n",
        "print(x.ndim)\r\n",
        "x1=np.array([1,2,4])\r\n",
        "print(x1.ndim)\r\n",
        "x1=np.array([[1,2,4]])\r\n",
        "print(x1.ndim)\r\n",
        "x1=np.array([[[1,2,4]]])\r\n",
        "print(x1.ndim)\r\n",
        "#setting dimension while creation\r\n",
        "y = np.array([1,2,3,4,5], ndmin=5)\r\n",
        "print(y)\r\n",
        "print(y.ndim)"
      ],
      "execution_count": null,
      "outputs": [
        {
          "output_type": "stream",
          "text": [
            "0\n",
            "1\n",
            "2\n",
            "3\n",
            "[[[[[1 2 3 4 5]]]]]\n",
            "5\n"
          ],
          "name": "stdout"
        }
      ]
    },
    {
      "cell_type": "code",
      "metadata": {
        "colab": {
          "base_uri": "https://localhost:8080/"
        },
        "id": "EA8FFlGZWBTD",
        "outputId": "66f1680a-932e-4cb9-e82e-3f6245d0ba8d"
      },
      "source": [
        "# *Shape*\r\n",
        "x=np.array(12)\r\n",
        "print(x.shape)\r\n",
        "x1=np.array([1,2,4])\r\n",
        "print(x1.shape)\r\n",
        "x1=np.array([[1,2,4]])\r\n",
        "print(x1.shape)\r\n",
        "x1=np.array([[[1,2,4]]])\r\n",
        "print(x1.shape)\r\n",
        "#modifying shape\r\n",
        "x1.shape=(3,1)\r\n",
        "print(x1)"
      ],
      "execution_count": 3,
      "outputs": [
        {
          "output_type": "stream",
          "text": [
            "()\n",
            "(3,)\n",
            "(1, 3)\n",
            "(1, 1, 3)\n",
            "[[1]\n",
            " [2]\n",
            " [4]]\n"
          ],
          "name": "stdout"
        }
      ]
    },
    {
      "cell_type": "code",
      "metadata": {
        "colab": {
          "base_uri": "https://localhost:8080/"
        },
        "id": "HxFyj_3HIol2",
        "outputId": "4d613328-41c8-4912-f033-b0c00567fbc9"
      },
      "source": [
        "arr =np.array([[[1,2,3],[4,5,6]], [[7,8,9],[10,11,12]]])\r\n",
        "arr.shape"
      ],
      "execution_count": 8,
      "outputs": [
        {
          "output_type": "execute_result",
          "data": {
            "text/plain": [
              "(2, 2, 3)"
            ]
          },
          "metadata": {
            "tags": []
          },
          "execution_count": 8
        }
      ]
    },
    {
      "cell_type": "code",
      "metadata": {
        "colab": {
          "base_uri": "https://localhost:8080/"
        },
        "id": "_QC4gIGhI9IC",
        "outputId": "b13c3f75-c525-4186-aece-be2bc70de6bd"
      },
      "source": [
        "arr.ndim"
      ],
      "execution_count": 5,
      "outputs": [
        {
          "output_type": "execute_result",
          "data": {
            "text/plain": [
              "3"
            ]
          },
          "metadata": {
            "tags": []
          },
          "execution_count": 5
        }
      ]
    },
    {
      "cell_type": "code",
      "metadata": {
        "colab": {
          "base_uri": "https://localhost:8080/"
        },
        "id": "u6Z31Fu7JBgt",
        "outputId": "e212aba7-f550-4375-a8d3-b46dc342d51b"
      },
      "source": [
        "#use of nditer\r\n",
        "for x in np.nditer(arr):\r\n",
        "  print(x)"
      ],
      "execution_count": 9,
      "outputs": [
        {
          "output_type": "stream",
          "text": [
            "1\n",
            "2\n",
            "3\n",
            "4\n",
            "5\n",
            "6\n",
            "7\n",
            "8\n",
            "9\n",
            "10\n",
            "11\n",
            "12\n"
          ],
          "name": "stdout"
        }
      ]
    },
    {
      "cell_type": "code",
      "metadata": {
        "colab": {
          "base_uri": "https://localhost:8080/"
        },
        "id": "ic1xAQtuJIzv",
        "outputId": "5bdadb1f-6773-4d8d-b917-7b9d309d50c1"
      },
      "source": [
        "#use of np.ndenumerate\r\n",
        "for i, x in np.ndenumerate(arr):\r\n",
        "  print(i,x)"
      ],
      "execution_count": 11,
      "outputs": [
        {
          "output_type": "stream",
          "text": [
            "(0, 0, 0) 1\n",
            "(0, 0, 1) 2\n",
            "(0, 0, 2) 3\n",
            "(0, 1, 0) 4\n",
            "(0, 1, 1) 5\n",
            "(0, 1, 2) 6\n",
            "(1, 0, 0) 7\n",
            "(1, 0, 1) 8\n",
            "(1, 0, 2) 9\n",
            "(1, 1, 0) 10\n",
            "(1, 1, 1) 11\n",
            "(1, 1, 2) 12\n"
          ],
          "name": "stdout"
        }
      ]
    },
    {
      "cell_type": "code",
      "metadata": {
        "id": "yBg9FUUYJifN"
      },
      "source": [
        ""
      ],
      "execution_count": null,
      "outputs": []
    }
  ]
}